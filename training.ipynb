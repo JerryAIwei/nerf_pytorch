{
 "cells": [
  {
   "cell_type": "code",
   "execution_count": 1,
   "source": [
    "from setup import *\n",
    "from load_data import *\n",
    "from model import *\n",
    "from render import *\n",
    "from encoder import *\n",
    "from ray import *"
   ],
   "outputs": [],
   "metadata": {}
  },
  {
   "cell_type": "code",
   "execution_count": 2,
   "source": [
    "imgs, poses, [H, W, focal], K = load_data('/home/erl/yaw/cse291-nerf/data/bottles',8)\n",
    "poses[:,:,:,1:3] *= -1"
   ],
   "outputs": [
    {
     "output_type": "stream",
     "name": "stdout",
     "text": [
      "800 800\n",
      "(2, 100, 100, 100, 4)\n",
      "(2, 100, 4, 4)\n"
     ]
    }
   ],
   "metadata": {}
  },
  {
   "cell_type": "code",
   "execution_count": 3,
   "source": [
    "def pdf_sampling(z_vals, weights, N_f):  \n",
    "    weights += 1e-5  # prevent nans\n",
    "    bins = torch.ones([3, 5])\n",
    "    bins *= z_vals\n",
    "\n",
    "    pdf = weights / torch.sum(weights, dim=1, keepdim=True)\n",
    "    cdf = torch.cumsum(pdf, -1)\n",
    "\n",
    "    u = torch.rand(pdf.shape[0], N_f)\n",
    "    inds = torch.searchsorted(cdf, u)\n",
    "\n",
    "    # Invert CDF\n",
    "    below = torch.maximum(torch.tensor([0]), inds-1)\n",
    "    above = torch.minimum(torch.tensor([cdf.shape[-1]-1]), inds)\n",
    "\n",
    "    cdf_g_below = cdf.gather(-1, below)\n",
    "    cdf_g_above = cdf.gather(-1, above)\n",
    "\n",
    "    bins_g_below = bins.gather(-1, below)\n",
    "    bins_g_above = bins.gather(-1, above)\n",
    "\n",
    "    denom = cdf_g_above - cdf_g_below\n",
    "    denom = torch.where(denom < 1e-5, torch.ones_like(denom), denom)\n",
    "    t = (u-cdf_g_below)/denom\n",
    "\n",
    "    samples =bins_g_below + t * (bins_g_above-bins_g_below)\n",
    "\n",
    "    return samples\n",
    "    print(bins)\n",
    "    print(samples)"
   ],
   "outputs": [],
   "metadata": {}
  },
  {
   "cell_type": "code",
   "execution_count": 4,
   "source": [
    "def raw_to_rgb(raw, z_vals):\n",
    "    H = raw.shape[0]\n",
    "    sigma = F.relu(raw[...,0].reshape(H, -1))\n",
    "    color = torch.sigmoid(raw[...,1:].reshape(H, -1, 3))\n",
    "    dists = torch.concat([z_vals[..., 1:] - z_vals[..., :-1], torch.broadcast_to(torch.from_numpy(np.array([1e10])), z_vals[...,:1].shape).to(device)], -1)\n",
    "    alpha = 1.-torch.exp(-sigma * dists)  \n",
    "    weights = alpha * torch.cumprod(1.-alpha + 1e-10, -1)\n",
    "    rgb_map = torch.sum(weights[...,None] * color, -2)\n",
    "    acc_map = torch.sum(weights, -1)\n",
    "    \n",
    "    rgb_map = rgb_map + (1. - acc_map[..., None])\n",
    "    #Weight = N*64\n",
    "    return rgb_map, weights"
   ],
   "outputs": [],
   "metadata": {}
  },
  {
   "cell_type": "code",
   "execution_count": 5,
   "source": [
    "def data_to_network_input(rays_o, rays_d, z_vals):\n",
    "    # pts_flat [N*64*3]\n",
    "    N = z_vals.shape[-1]\n",
    "    norm_d = rays_d / torch.norm(rays_d, dim=1, keepdim=True)\n",
    "    pts_flat = rays_o[...,None,:] + norm_d[...,None,:] * z_vals[...,:,None]\n",
    "    view_direction = torch.ones([rays_d.shape[0], N, 3]).to(device)\n",
    "    for i in range(N):\n",
    "        view_direction[:, i, :] = norm_d\n",
    "    #pts_flat shape, N*64*5)\n",
    "    pts_flat = encoder_position(pts_flat, 10)\n",
    "    view_direction = encoder_position(view_direction, 4)\n",
    "    #pts_flat shape,  after encorder, N*64*(5*2*4 + 5))\n",
    "    network_input = torch.cat((pts_flat, view_direction), 2)\n",
    "    return network_input"
   ],
   "outputs": [],
   "metadata": {}
  },
  {
   "cell_type": "code",
   "execution_count": 6,
   "source": [
    "def render_rays(coarse_fn, fine_fn, rays_o, rays_d, near = 1, far = 5, N_samples_coasrs = 64, N_samples_fine = 128, fine_sample = False, rand=False):\n",
    "    \n",
    "    # rays [N*3]\n",
    "    z_vals = torch.linspace(near, far, N_samples_coasrs).to(device) \n",
    "    \n",
    "    network_input = data_to_network_input(rays_o, rays_d, z_vals)\n",
    "    \n",
    "    raw = coarse_fn(network_input)\n",
    "\n",
    "\n",
    "    coarse_rgb_map, coarse_weights = raw_to_rgb (raw, z_vals)\n",
    "    if not fine_sample:\n",
    "        return coarse_rgb_map, coarse_rgb_map\n",
    "        \n",
    "    z_vals_fine =  pdf_sampling(z_vals, coarse_weights, N_samples_fine)\n",
    "    network_input_fine =  data_to_network_input(rays_o, rays_d, z_vals_fine)\n",
    "\n",
    "    raw_fine = fine_fn(network_input_fine)\n",
    "\n",
    "    fine_rgb_map, fine_weights = raw_to_rgb (raw_fine, z_vals_fine)\n",
    "\n",
    "    return  fine_rgb_map, coarse_rgb_map"
   ],
   "outputs": [],
   "metadata": {}
  },
  {
   "cell_type": "code",
   "execution_count": 7,
   "source": [
    "img2mse = lambda x, y : torch.mean((x - y) ** 2)\n",
    "mse2psnr = lambda x : -10. * np.log(x) / np.log(10.)\n",
    "to8b = lambda x : (255*np.clip(x,0,1)).astype(np.uint8)\n",
    "lrate = 5e-4\n",
    "global_step = 0\n",
    "lrate_decay = 250\n",
    "batch_size = 32*32*4"
   ],
   "outputs": [],
   "metadata": {}
  },
  {
   "cell_type": "code",
   "execution_count": 8,
   "source": [
    "NeRF_coarse = NeRF(input_ch=63, input_ch_views=27, use_viewdirs=True).to(device)\n",
    "NeRF_fine = NeRF(input_ch=63, input_ch_views=27, use_viewdirs=True).to(device)\n",
    "\n",
    "grad_vars = list(NeRF_coarse.parameters())\n",
    "\n",
    "\n",
    "optimizer = torch.optim.Adam(params=grad_vars, lr=lrate, betas=(0.9, 0.999))\n",
    "\n",
    "\n",
    "N_iters = 2\n",
    "\n",
    "#####  Prepare data  #####\n",
    "all_rays_o = []\n",
    "all_rays_d = []\n",
    "all_images = []\n",
    "for i in range(imgs[0].shape[0]):\n",
    "\n",
    "    image = imgs[0][i][:,:,:3]\n",
    "    c2w = poses[0][i]\n",
    "    image = torch.Tensor(image)\n",
    "    c2w = torch.Tensor(c2w)\n",
    "    rays_o, rays_d = get_rays(H, W, focal, c2w)\n",
    "\n",
    "    rays_o = rays_o\n",
    "    rays_d = rays_d\n",
    "\n",
    "    rays_o = rays_o.reshape([-1, 3])\n",
    "    rays_d = rays_d.reshape([-1, 3])\n",
    "    image = image.reshape([-1, 3])\n",
    "\n",
    "    all_rays_o.append(rays_o)\n",
    "    all_rays_d.append(rays_d)\n",
    "    all_images.append(image)\n",
    "\n",
    "\n",
    "all_rays_o = torch.concat(all_rays_o)\n",
    "all_rays_d = torch.concat(all_rays_d)\n",
    "all_images = torch.concat(all_images)\n",
    "\n",
    "loss_record = []\n",
    "psny = []\n",
    "    #####  Core optimization loop  #####\n",
    "for epoch in range(N_iters):\n",
    "    for i in tqdm(range(0, all_images.shape[0], batch_size)):\n",
    "    \n",
    "        input_rays_o = all_rays_o[i:i+batch_size].to(device)\n",
    "        input_rays_d = all_rays_d[i:i+batch_size].to(device)\n",
    "        input_images = all_images[i:i+batch_size].to(device)\n",
    "\n",
    "        predict_rgb, fine_predict_rgb = render_rays(NeRF_coarse.forward, NeRF_fine.forward, input_rays_o, input_rays_d)\n",
    "\n",
    "        optimizer.zero_grad()\n",
    "        img_loss = img2mse(predict_rgb, input_images) + img2mse(fine_predict_rgb, input_images)\n",
    "        loss = img_loss\n",
    "        loss.backward()\n",
    "        optimizer.step()\n",
    "\n",
    "\n",
    "        del input_images\n",
    "        del predict_rgb\n",
    "\n",
    "    ###   update learning rate   ###\n",
    "\n",
    "        decay_rate = 0.1\n",
    "        decay_steps = lrate_decay * 1000\n",
    "        new_lrate = lrate * (decay_rate ** (global_step / decay_steps))\n",
    "        for param_group in optimizer.param_groups:\n",
    "            param_group['lr'] = new_lrate\n",
    "        global_step += 1\n",
    "\n",
    "        loss_record.append(loss.item())\n",
    "        psny.append(mse2psnr(loss.item()))\n",
    "        \n",
    "        if(global_step %100 == 0):\n",
    "            tqdm.write(f\"[TRAIN] Iter: {i} Loss: {loss.item()}\")\n",
    "    #plt.plot(loss_record)\n",
    "    #plt.show()\n"
   ],
   "outputs": [],
   "metadata": {}
  },
  {
   "cell_type": "code",
   "execution_count": 94,
   "source": [
    "import matplotlib.pyplot as plt\n",
    "plt.plot(loss_record)\n",
    "plt.show()\n",
    "plt.plot(psny)\n",
    "plt.show()"
   ],
   "outputs": [
    {
     "output_type": "display_data",
     "data": {
      "image/png": "[encoded data removed]",
      "text/plain": [
       "<Figure size 432x288 with 1 Axes>"
      ]
     },
     "metadata": {
      "needs_background": "light"
     }
    },
    {
     "output_type": "display_data",
     "data": {
      "image/png": "[encoded data removed]",
      "text/plain": [
       "<Figure size 432x288 with 1 Axes>"
      ]
     },
     "metadata": {
      "needs_background": "light"
     }
    }
   ],
   "metadata": {}
  },
  {
   "cell_type": "code",
   "execution_count": null,
   "source": [
    "torch.save(NeRF_coarse, 'model.pth')\n",
    "np.save(\"loss\", loss_record)"
   ],
   "outputs": [],
   "metadata": {}
  },
  {
   "cell_type": "code",
   "execution_count": null,
   "source": [
    "## test\n",
    "    #out_imgs.append(image)\n",
    "\n",
    "with torch.no_grad():\n",
    "    NeRF_coarse = torch.load('model.pth').to(device)\n",
    "    NeRF_coarse.eval()\n",
    "\n",
    "\n",
    "    basedir= \"data/bottles\"\n",
    "    pose_root = os.path.join(basedir, \"pose\")\n",
    "    test_pose_file = [\"1_val_0063\", \"2_test_0000\",\"2_test_0016\", \"2_test_0055\", \"2_test_0093\", \"2_test_0160\" ]\n",
    "    poses = []\n",
    "    for f in test_pose_file :   \n",
    "        poses.append(np.loadtxt(os.path.join(pose_root, f+\".txt\")))\n",
    "\n",
    "    out_imgs = []\n",
    "    for pose in poses:\n",
    "        pose[:,1:3] *= -1\n",
    "        c2w = torch.Tensor(pose)\n",
    "        rays_o, rays_d = get_rays(H, W, focal, c2w)\n",
    "        rays_o = rays_o.reshape([-1, 3])\n",
    "        rays_d = rays_d.reshape([-1, 3])\n",
    "\n",
    "        output = []\n",
    "        for i in tqdm(range(0, rays_o.shape[0], batch_size)):\n",
    "    \n",
    "            input_rays_o = rays_o[i:i+batch_size].to(device)\n",
    "            input_rays_d = rays_d[i:i+batch_size].to(device)\n",
    "\n",
    "            predict_rgb, _ = render_rays(NeRF_coarse.forward, input_rays_o, input_rays_d, 1, 5, 64)\n",
    "            rgb = predict_rgb.to(\"cpu\")\n",
    "            output.append(rgb)\n",
    "    \n",
    "        image = torch.concat(output)\n",
    "        image = image.reshape([H, W, 3])\n",
    "        out_imgs.append(image)\n",
    "\n",
    "\n",
    "\n"
   ],
   "outputs": [],
   "metadata": {}
  },
  {
   "cell_type": "code",
   "execution_count": null,
   "source": [
    "img = imgs[1, 0, :, :,0:3]\n",
    "plt.imshow(img)\n",
    "plt.show()"
   ],
   "outputs": [],
   "metadata": {}
  },
  {
   "cell_type": "code",
   "execution_count": null,
   "source": [
    "import matplotlib.pyplot as plt\n",
    "for img in out_imgs:\n",
    "    print(img.shape)\n",
    "    plt.imshow(img)\n",
    "    plt.show()"
   ],
   "outputs": [],
   "metadata": {}
  },
  {
   "cell_type": "code",
   "execution_count": null,
   "source": [],
   "outputs": [],
   "metadata": {}
  }
 ],
 "metadata": {
  "orig_nbformat": 4,
  "language_info": {
   "name": "python",
   "version": "3.9.7",
   "mimetype": "text/x-python",
   "codemirror_mode": {
    "name": "ipython",
    "version": 3
   },
   "pygments_lexer": "ipython3",
   "nbconvert_exporter": "python",
   "file_extension": ".py"
  },
  "kernelspec": {
   "name": "python3",
   "display_name": "Python 3.9.7 64-bit ('ml3d': conda)"
  },
  "interpreter": {
   "hash": "c6662b505d7849ed570b528763760c6498d5b7aea63f57f2e051701480332ba5"
  }
 },
 "nbformat": 4,
 "nbformat_minor": 2
}